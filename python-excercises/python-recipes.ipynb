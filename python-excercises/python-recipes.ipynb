{
 "cells": [
  {
   "cell_type": "markdown",
   "id": "8ef2a731",
   "metadata": {},
   "source": [
    "## List Recipe"
   ]
  },
  {
   "cell_type": "markdown",
   "id": "0bdac879",
   "metadata": {},
   "source": [
    "### Turn every item of a list into its square"
   ]
  },
  {
   "cell_type": "code",
   "execution_count": 4,
   "id": "04409443",
   "metadata": {},
   "outputs": [
    {
     "data": {
      "text/plain": [
       "[1, 4, 9, 16, 25, 36, 49]"
      ]
     },
     "execution_count": 4,
     "metadata": {},
     "output_type": "execute_result"
    }
   ],
   "source": [
    "numbers = [1, 2, 3, 4, 5, 6, 7]\n",
    "[num ** 2 for num in numbers]"
   ]
  },
  {
   "cell_type": "markdown",
   "id": "2d2cb27a",
   "metadata": {},
   "source": [
    "### Concatenate two lists"
   ]
  },
  {
   "cell_type": "code",
   "execution_count": 8,
   "id": "7a0ada61",
   "metadata": {},
   "outputs": [
    {
     "data": {
      "text/plain": [
       "['Hello  Dear', 'Hello  Sir', 'take  Dear', 'take  Sir']"
      ]
     },
     "execution_count": 8,
     "metadata": {},
     "output_type": "execute_result"
    }
   ],
   "source": [
    "list1 = [\"Hello \", \"take \"]\n",
    "list2 = [\"Dear\", \"Sir\"]\n",
    "[str1 + \" \" + str2 for str1 in list1 for str2 in list2]"
   ]
  },
  {
   "cell_type": "code",
   "execution_count": 9,
   "id": "11895895",
   "metadata": {},
   "outputs": [
    {
     "data": {
      "text/plain": [
       "['Hello  Dear', 'Hello  Sir', 'take  Dear', 'take  Sir']"
      ]
     },
     "execution_count": 9,
     "metadata": {},
     "output_type": "execute_result"
    }
   ],
   "source": [
    "combined_lists = []\n",
    "for str1 in list1:\n",
    "    for str2 in list2:\n",
    "        combined_lists.append(str1 + \" \" + str2)\n",
    "combined_lists"
   ]
  },
  {
   "cell_type": "code",
   "execution_count": 12,
   "id": "682a3f85",
   "metadata": {},
   "outputs": [
    {
     "name": "stdout",
     "output_type": "stream",
     "text": [
      "('Hello ', 'Dear')\n",
      "('take ', 'Sir')\n"
     ]
    }
   ],
   "source": [
    "for ele in zip(list1, list2):\n",
    "    print(ele)"
   ]
  },
  {
   "cell_type": "code",
   "execution_count": null,
   "id": "379c6308",
   "metadata": {},
   "outputs": [],
   "source": []
  }
 ],
 "metadata": {
  "kernelspec": {
   "display_name": "Python 3 (ipykernel)",
   "language": "python",
   "name": "python3"
  },
  "language_info": {
   "codemirror_mode": {
    "name": "ipython",
    "version": 3
   },
   "file_extension": ".py",
   "mimetype": "text/x-python",
   "name": "python",
   "nbconvert_exporter": "python",
   "pygments_lexer": "ipython3",
   "version": "3.8.5"
  }
 },
 "nbformat": 4,
 "nbformat_minor": 5
}
